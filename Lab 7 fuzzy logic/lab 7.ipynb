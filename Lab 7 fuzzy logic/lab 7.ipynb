{
 "cells": [
  {
   "cell_type": "code",
   "execution_count": 1,
   "metadata": {},
   "outputs": [
    {
     "data": {
      "text/plain": [
       "31.225078345035513"
      ]
     },
     "execution_count": 1,
     "metadata": {},
     "output_type": "execute_result"
    }
   ],
   "source": [
    "import numpy as np\n",
    "import skfuzzy as fuzz\n",
    "from skfuzzy import control as ctrl\n",
    "\n",
    "\n",
    "range_d = ctrl.Antecedent(np.arange(0, 100, 1), 'range')\n",
    "angle_a = ctrl.Antecedent(np.arange(0, 90, 1), 'angle')\n",
    "air_resistance_k = ctrl.Antecedent(np.arange(0, 1, 0.01), 'air_resistance')\n",
    "initial_velocity = ctrl.Consequent(np.arange(0, 60, 1), 'initial_velocity')\n",
    "\n",
    "range_d['low'] = fuzz.trimf(range_d.universe, [0, 0, 50])\n",
    "range_d['medium'] = fuzz.trimf(range_d.universe, [0, 50, 100])\n",
    "range_d['high'] = fuzz.trimf(range_d.universe, [0, 100, 100])\n",
    "\n",
    "angle_a['low'] = fuzz.trimf(angle_a.universe, [0, 0, 45])\n",
    "angle_a['medium'] = fuzz.trimf(angle_a.universe, [0, 45, 90])\n",
    "angle_a['high'] = fuzz.trimf(angle_a.universe, [45, 90, 90])\n",
    "\n",
    "air_resistance_k['low'] = fuzz.trimf(air_resistance_k.universe, [0, 0, 1])\n",
    "air_resistance_k['high'] = fuzz.trimf(air_resistance_k.universe, [0, 1, 1])\n",
    "\n",
    "initial_velocity['low'] = fuzz.trimf(initial_velocity.universe, [0, 0, 30])\n",
    "initial_velocity['medium'] = fuzz.trimf(initial_velocity.universe, [0, 30, 60])\n",
    "initial_velocity['high'] = fuzz.trimf(initial_velocity.universe, [30, 60, 60])\n",
    "\n",
    "rule1 = ctrl.Rule(range_d['low'] & angle_a['low'] & air_resistance_k['low'], initial_velocity['low'])\n",
    "rule2 = ctrl.Rule(range_d['low'] & angle_a['low'] & air_resistance_k['high'], initial_velocity['medium'])\n",
    "rule3 = ctrl.Rule(range_d['low'] & angle_a['medium'] & air_resistance_k['low'], initial_velocity['low'])\n",
    "rule4 = ctrl.Rule(range_d['low'] & angle_a['medium'] & air_resistance_k['high'], initial_velocity['low'])\n",
    "rule5 = ctrl.Rule(range_d['low'] & angle_a['high'] & air_resistance_k['low'], initial_velocity['low'])\n",
    "rule6 = ctrl.Rule(range_d['low'] & angle_a['high'] & air_resistance_k['high'], initial_velocity['low'])\n",
    "\n",
    "rule7 = ctrl.Rule(range_d['medium'] & angle_a['low'] & air_resistance_k['low'], initial_velocity['medium'])\n",
    "rule8 = ctrl.Rule(range_d['medium'] & angle_a['low'] & air_resistance_k['high'], initial_velocity['medium'])\n",
    "rule9 = ctrl.Rule(range_d['medium'] & angle_a['medium'] & air_resistance_k['low'], initial_velocity['low'])\n",
    "rule10 = ctrl.Rule(range_d['medium'] & angle_a['medium'] & air_resistance_k['high'], initial_velocity['low'])\n",
    "rule11 = ctrl.Rule(range_d['medium'] & angle_a['high'] & air_resistance_k['low'], initial_velocity['medium'])\n",
    "rule12 = ctrl.Rule(range_d['medium'] & angle_a['high'] & air_resistance_k['high'], initial_velocity['medium'])\n",
    "\n",
    "rule13 = ctrl.Rule(range_d['high'] & angle_a['low'] & air_resistance_k['low'], initial_velocity['high'])\n",
    "rule14 = ctrl.Rule(range_d['high'] & angle_a['low'] & air_resistance_k['high'], initial_velocity['high'])\n",
    "rule15 = ctrl.Rule(range_d['high'] & angle_a['medium'] & air_resistance_k['low'], initial_velocity['medium'])\n",
    "rule16 = ctrl.Rule(range_d['high'] & angle_a['medium'] & air_resistance_k['high'], initial_velocity['medium'])\n",
    "rule17 = ctrl.Rule(range_d['high'] & angle_a['high'] & air_resistance_k['low'], initial_velocity['high'])\n",
    "rule18 = ctrl.Rule(range_d['high'] & angle_a['high'] & air_resistance_k['high'], initial_velocity['high'])\n",
    "\n",
    "initial_velocity_ctrl = ctrl.ControlSystem([rule1, rule2, rule3, rule4, rule5, rule6, rule7, rule8, rule9, rule10, \n",
    "                                            rule11, rule12, rule13, rule14, rule15, rule16, rule17, rule18])\n",
    "initial_velocity_simulation = ctrl.ControlSystemSimulation(initial_velocity_ctrl)\n",
    "\n",
    "initial_velocity_simulation.input['range'] = 100\n",
    "initial_velocity_simulation.input['angle'] = 30\n",
    "initial_velocity_simulation.input['air_resistance'] = 0.2\n",
    "\n",
    "initial_velocity_simulation.compute()\n",
    "\n",
    "initial_velocity_simulation.output['initial_velocity']"
   ]
  },
  {
   "cell_type": "code",
   "execution_count": 2,
   "metadata": {},
   "outputs": [],
   "source": [
    "def calculate_initial_velocity(d, a):\n",
    "    g = 9.81\n",
    "    v = np.sqrt((d * g) / np.sin(2 * np.deg2rad(a)))\n",
    "    return v"
   ]
  },
  {
   "cell_type": "code",
   "execution_count": 3,
   "metadata": {},
   "outputs": [
    {
     "name": "stdout",
     "output_type": "stream",
     "text": [
      "V wzoru 33.65651836049067, V modelu 31.225078345035513, dane wejściowe: odległość 100, kąt 30, opór powietrza 0.2\n"
     ]
    }
   ],
   "source": [
    "d = 100\n",
    "a = 30\n",
    "air = 0.2\n",
    "\n",
    "v_eq = calculate_initial_velocity(d, a)\n",
    "\n",
    "initial_velocity_simulation.input['range'] = d\n",
    "initial_velocity_simulation.input['angle'] = a\n",
    "initial_velocity_simulation.input['air_resistance'] = air\n",
    "\n",
    "initial_velocity_simulation.compute()\n",
    "\n",
    "v_ml = initial_velocity_simulation.output['initial_velocity']\n",
    "\n",
    "print(f\"V wzoru {v_eq}, V modelu {v_ml}, dane wejściowe: odległość {d}, kąt {a}, opór powietrza {air}\")"
   ]
  },
  {
   "cell_type": "code",
   "execution_count": 4,
   "metadata": {},
   "outputs": [
    {
     "name": "stdout",
     "output_type": "stream",
     "text": [
      "V wzoru 31.32091952673165, V modelu 29.97271745002701, dane wejściowe: odległość 100, kąt 45, opór powietrza 0.2\n"
     ]
    }
   ],
   "source": [
    "d = 100\n",
    "a = 45\n",
    "air = 0.2\n",
    "\n",
    "v_eq = calculate_initial_velocity(d, a)\n",
    "\n",
    "initial_velocity_simulation.input['range'] = d\n",
    "initial_velocity_simulation.input['angle'] = a\n",
    "initial_velocity_simulation.input['air_resistance'] = air\n",
    "\n",
    "initial_velocity_simulation.compute()\n",
    "\n",
    "v_ml = initial_velocity_simulation.output['initial_velocity']\n",
    "\n",
    "print(f\"V wzoru {v_eq}, V modelu {v_ml}, dane wejściowe: odległość {d}, kąt {a}, opór powietrza {air}\")"
   ]
  },
  {
   "cell_type": "code",
   "execution_count": 5,
   "metadata": {},
   "outputs": [
    {
     "name": "stdout",
     "output_type": "stream",
     "text": [
      "V wzoru 33.65651836049067, V modelu 31.225078345035513, dane wejściowe: odległość 100, kąt 60, opór powietrza 0.2\n"
     ]
    }
   ],
   "source": [
    "d = 100\n",
    "a = 60\n",
    "air = 0.2\n",
    "\n",
    "v_eq = calculate_initial_velocity(d, a)\n",
    "\n",
    "initial_velocity_simulation.input['range'] = d\n",
    "initial_velocity_simulation.input['angle'] = a\n",
    "initial_velocity_simulation.input['air_resistance'] = air\n",
    "\n",
    "initial_velocity_simulation.compute()\n",
    "\n",
    "v_ml = initial_velocity_simulation.output['initial_velocity']\n",
    "\n",
    "print(f\"V wzoru {v_eq}, V modelu {v_ml}, dane wejściowe: odległość {d}, kąt {a}, opór powietrza {air}\")"
   ]
  },
  {
   "cell_type": "code",
   "execution_count": 6,
   "metadata": {},
   "outputs": [
    {
     "name": "stdout",
     "output_type": "stream",
     "text": [
      "V wzoru 23.7987523638325, V modelu 26.34456928838952, dane wejściowe: odległość 50, kąt 30, opór powietrza 0.2\n"
     ]
    }
   ],
   "source": [
    "d = 50\n",
    "a = 30\n",
    "air = 0.2\n",
    "\n",
    "v_eq = calculate_initial_velocity(d, a)\n",
    "\n",
    "initial_velocity_simulation.input['range'] = d\n",
    "initial_velocity_simulation.input['angle'] = a\n",
    "initial_velocity_simulation.input['air_resistance'] = air\n",
    "\n",
    "initial_velocity_simulation.compute()\n",
    "\n",
    "v_ml = initial_velocity_simulation.output['initial_velocity']\n",
    "\n",
    "print(f\"V wzoru {v_eq}, V modelu {v_ml}, dane wejściowe: odległość {d}, kąt {a}, opór powietrza {air}\")"
   ]
  },
  {
   "cell_type": "code",
   "execution_count": 7,
   "metadata": {},
   "outputs": [
    {
     "name": "stdout",
     "output_type": "stream",
     "text": [
      "V wzoru 22.147234590350102, V modelu 24.173945925505762, dane wejściowe: odległość 50, kąt 45, opór powietrza 0.2\n"
     ]
    }
   ],
   "source": [
    "d = 50\n",
    "a = 45\n",
    "air = 0.2\n",
    "\n",
    "v_eq = calculate_initial_velocity(d, a)\n",
    "\n",
    "initial_velocity_simulation.input['range'] = d\n",
    "initial_velocity_simulation.input['angle'] = a\n",
    "initial_velocity_simulation.input['air_resistance'] = air\n",
    "\n",
    "initial_velocity_simulation.compute()\n",
    "\n",
    "v_ml = initial_velocity_simulation.output['initial_velocity']\n",
    "\n",
    "print(f\"V wzoru {v_eq}, V modelu {v_ml}, dane wejściowe: odległość {d}, kąt {a}, opór powietrza {air}\")"
   ]
  },
  {
   "cell_type": "code",
   "execution_count": 8,
   "metadata": {},
   "outputs": [
    {
     "name": "stdout",
     "output_type": "stream",
     "text": [
      "V wzoru 23.7987523638325, V modelu 26.34456928838952, dane wejściowe: odległość 50, kąt 60, opór powietrza 0.2\n"
     ]
    }
   ],
   "source": [
    "d = 50\n",
    "a = 60\n",
    "air = 0.2\n",
    "\n",
    "v_eq = calculate_initial_velocity(d, a)\n",
    "\n",
    "initial_velocity_simulation.input['range'] = d\n",
    "initial_velocity_simulation.input['angle'] = a\n",
    "initial_velocity_simulation.input['air_resistance'] = air\n",
    "\n",
    "initial_velocity_simulation.compute()\n",
    "\n",
    "v_ml = initial_velocity_simulation.output['initial_velocity']\n",
    "\n",
    "print(f\"V wzoru {v_eq}, V modelu {v_ml}, dane wejściowe: odległość {d}, kąt {a}, opór powietrza {air}\")"
   ]
  },
  {
   "cell_type": "code",
   "execution_count": 9,
   "metadata": {},
   "outputs": [
    {
     "name": "stdout",
     "output_type": "stream",
     "text": [
      "V wzoru 37.869856855815996, V modelu 31.79427009170131, dane wejściowe: odległość 50, kąt 80, opór powietrza 0.2\n"
     ]
    }
   ],
   "source": [
    "d = 50\n",
    "a = 80\n",
    "air = 0.2\n",
    "\n",
    "v_eq = calculate_initial_velocity(d, a)\n",
    "\n",
    "initial_velocity_simulation.input['range'] = d\n",
    "initial_velocity_simulation.input['angle'] = a\n",
    "initial_velocity_simulation.input['air_resistance'] = air\n",
    "\n",
    "initial_velocity_simulation.compute()\n",
    "\n",
    "v_ml = initial_velocity_simulation.output['initial_velocity']\n",
    "\n",
    "print(f\"V wzoru {v_eq}, V modelu {v_ml}, dane wejściowe: odległość {d}, kąt {a}, opór powietrza {air}\")"
   ]
  },
  {
   "cell_type": "code",
   "execution_count": 10,
   "metadata": {},
   "outputs": [
    {
     "name": "stdout",
     "output_type": "stream",
     "text": [
      "V wzoru 37.869856855816, V modelu 31.79427009170131, dane wejściowe: odległość 50, kąt 10, opór powietrza 0.2\n"
     ]
    }
   ],
   "source": [
    "d = 50\n",
    "a = 10\n",
    "air = 0.2\n",
    "\n",
    "v_eq = calculate_initial_velocity(d, a)\n",
    "\n",
    "initial_velocity_simulation.input['range'] = d\n",
    "initial_velocity_simulation.input['angle'] = a\n",
    "initial_velocity_simulation.input['air_resistance'] = air\n",
    "\n",
    "initial_velocity_simulation.compute()\n",
    "\n",
    "v_ml = initial_velocity_simulation.output['initial_velocity']\n",
    "\n",
    "print(f\"V wzoru {v_eq}, V modelu {v_ml}, dane wejściowe: odległość {d}, kąt {a}, opór powietrza {air}\")"
   ]
  },
  {
   "cell_type": "code",
   "execution_count": 11,
   "metadata": {},
   "outputs": [
    {
     "name": "stdout",
     "output_type": "stream",
     "text": [
      "V wzoru 15.051652588005386, V modelu 24.49130434782611, dane wejściowe: odległość 20, kąt 30, opór powietrza 0.2\n"
     ]
    }
   ],
   "source": [
    "d = 20\n",
    "a = 30\n",
    "air = 0.2\n",
    "\n",
    "v_eq = calculate_initial_velocity(d, a)\n",
    "\n",
    "initial_velocity_simulation.input['range'] = d\n",
    "initial_velocity_simulation.input['angle'] = a\n",
    "initial_velocity_simulation.input['air_resistance'] = air\n",
    "\n",
    "initial_velocity_simulation.compute()\n",
    "\n",
    "v_ml = initial_velocity_simulation.output['initial_velocity']\n",
    "\n",
    "print(f\"V wzoru {v_eq}, V modelu {v_ml}, dane wejściowe: odległość {d}, kąt {a}, opór powietrza {air}\")"
   ]
  },
  {
   "cell_type": "code",
   "execution_count": 12,
   "metadata": {},
   "outputs": [
    {
     "name": "stdout",
     "output_type": "stream",
     "text": [
      "V wzoru 14.007141035914502, V modelu 21.06248131539614, dane wejściowe: odległość 20, kąt 45, opór powietrza 0.2\n"
     ]
    }
   ],
   "source": [
    "d = 20\n",
    "a = 45\n",
    "air = 0.2\n",
    "\n",
    "v_eq = calculate_initial_velocity(d, a)\n",
    "\n",
    "initial_velocity_simulation.input['range'] = d\n",
    "initial_velocity_simulation.input['angle'] = a\n",
    "initial_velocity_simulation.input['air_resistance'] = air\n",
    "\n",
    "initial_velocity_simulation.compute()\n",
    "\n",
    "v_ml = initial_velocity_simulation.output['initial_velocity']\n",
    "\n",
    "print(f\"V wzoru {v_eq}, V modelu {v_ml}, dane wejściowe: odległość {d}, kąt {a}, opór powietrza {air}\")"
   ]
  },
  {
   "cell_type": "code",
   "execution_count": 13,
   "metadata": {},
   "outputs": [
    {
     "name": "stdout",
     "output_type": "stream",
     "text": [
      "V wzoru 15.051652588005384, V modelu 24.49130434782611, dane wejściowe: odległość 20, kąt 60, opór powietrza 0.2\n"
     ]
    }
   ],
   "source": [
    "d = 20\n",
    "a = 60\n",
    "air = 0.2\n",
    "\n",
    "v_eq = calculate_initial_velocity(d, a)\n",
    "\n",
    "initial_velocity_simulation.input['range'] = d\n",
    "initial_velocity_simulation.input['angle'] = a\n",
    "initial_velocity_simulation.input['air_resistance'] = air\n",
    "\n",
    "initial_velocity_simulation.compute()\n",
    "\n",
    "v_ml = initial_velocity_simulation.output['initial_velocity']\n",
    "\n",
    "print(f\"V wzoru {v_eq}, V modelu {v_ml}, dane wejściowe: odległość {d}, kąt {a}, opór powietrza {air}\")"
   ]
  }
 ],
 "metadata": {
  "kernelspec": {
   "display_name": "SWAD",
   "language": "python",
   "name": "python3"
  },
  "language_info": {
   "codemirror_mode": {
    "name": "ipython",
    "version": 3
   },
   "file_extension": ".py",
   "mimetype": "text/x-python",
   "name": "python",
   "nbconvert_exporter": "python",
   "pygments_lexer": "ipython3",
   "version": "3.11.9"
  }
 },
 "nbformat": 4,
 "nbformat_minor": 2
}
